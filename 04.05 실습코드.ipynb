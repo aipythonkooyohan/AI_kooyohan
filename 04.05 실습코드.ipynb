{
 "cells": [
  {
   "cell_type": "code",
   "execution_count": null,
   "id": "2e35684b",
   "metadata": {},
   "outputs": [],
   "source": [
    "score = float(input(\"점수를 입력하세요: \"))\n",
    "\n",
    "if score >= 90:\n",
    "    grade = \"A\"\n",
    "elif score >= 80:\n",
    "    grade = \"B\"\n",
    "elif score >= 70:\n",
    "    grade = \"C\"\n",
    "elif score >= 60:\n",
    "    grade = \"D\"\n",
    "else:\n",
    "    grade = \"F\"\n",
    "\n",
    "print(\"등급은\", grade, \"입니다.\")"
   ]
  },
  {
   "cell_type": "code",
   "execution_count": null,
   "id": "f60098c0",
   "metadata": {},
   "outputs": [],
   "source": [
    "def minute_to_hour_and_minute(minutes):\n",
    "    hours = minutes // 60\n",
    "    remaining_minutes = minutes % 60\n",
    "    print(f\"{minutes}분은 {hours}시간 {remaining_minutes}분입니다.\")\n",
    "\n",
    "# 사용자로부터 입력 받기\n",
    "minutes_input = int(input(\"분을 입력하세요: \"))\n",
    "minute_to_hour_and_minute(minutes_input)"
   ]
  },
  {
   "cell_type": "code",
   "execution_count": null,
   "id": "64a010f2",
   "metadata": {},
   "outputs": [],
   "source": [
    "def celsius_to_fahrenheit(celsius):\n",
    "    fahrenheit = (celsius * 9/5) + 32\n",
    "    print(f\"{celsius}도는 화씨로 {fahrenheit}도입니다.\")\n",
    "\n",
    "# 사용자로부터 입력 받기\n",
    "celsius_input = float(input(\"섭씨온도를 입력하세요: \"))\n",
    "celsius_to_fahrenheit(celsius_input)"
   ]
  },
  {
   "cell_type": "code",
   "execution_count": null,
   "id": "deb70a37",
   "metadata": {},
   "outputs": [],
   "source": [
    "import math\n",
    "\n",
    "def calculate_circle(radius):\n",
    "    circumference = 2 * math.pi * radius\n",
    "    area = math.pi * (radius ** 2)\n",
    "    print(f\"반지름이 {radius}인 원의 둘레는 {circumference}이고, 면적은 {area}입니다.\")\n",
    "\n",
    "# 사용자로부터 입력 받기\n",
    "radius_input = float(input(\"원의 반지름을 입력하세요: \"))\n",
    "calculate_circle(radius_input)"
   ]
  },
  {
   "cell_type": "code",
   "execution_count": null,
   "id": "9400f72d",
   "metadata": {},
   "outputs": [],
   "source": [
    "# 주어진 리스트\n",
    "my_list = [1, 2, 3, 4, 5]\n",
    "\n",
    "# 모든 요소를 더할 변수 초기화\n",
    "total = 0\n",
    "\n",
    "# 리스트의 각 요소를 더하기\n",
    "for num in my_list:\n",
    "    total += num\n",
    "\n",
    "# 결과 출력\n",
    "print(\"리스트의 모든 요소의 합:\", total)"
   ]
  },
  {
   "cell_type": "code",
   "execution_count": null,
   "id": "73cdf11d",
   "metadata": {},
   "outputs": [],
   "source": [
    "# 변수 초기화\n",
    "even_sum = 0\n",
    "odd_sum = 0\n",
    "\n",
    "# 1부터 10까지의 숫자를 반복하면서 짝수와 홀수를 분류하고 각각의 합을 구함\n",
    "for num in range(1, 11):\n",
    "    if num % 2 == 0:  # 짝수인 경우\n",
    "        even_sum += num\n",
    "    else:  # 홀수인 경우\n",
    "        odd_sum += num\n",
    "\n",
    "# 결과 출력\n",
    "print(\"짝수의 합:\", even_sum)\n",
    "print(\"홀수의 합:\", odd_sum)"
   ]
  }
 ],
 "metadata": {
  "kernelspec": {
   "display_name": "Python 3 (ipykernel)",
   "language": "python",
   "name": "python3"
  },
  "language_info": {
   "codemirror_mode": {
    "name": "ipython",
    "version": 3
   },
   "file_extension": ".py",
   "mimetype": "text/x-python",
   "name": "python",
   "nbconvert_exporter": "python",
   "pygments_lexer": "ipython3",
   "version": "3.10.9"
  },
  "toc": {
   "base_numbering": 1,
   "nav_menu": {},
   "number_sections": true,
   "sideBar": true,
   "skip_h1_title": false,
   "title_cell": "Table of Contents",
   "title_sidebar": "Contents",
   "toc_cell": false,
   "toc_position": {},
   "toc_section_display": true,
   "toc_window_display": false
  }
 },
 "nbformat": 4,
 "nbformat_minor": 5
}
