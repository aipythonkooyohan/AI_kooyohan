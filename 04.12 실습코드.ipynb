{
 "cells": [
  {
   "cell_type": "code",
   "execution_count": null,
   "id": "ed348553",
   "metadata": {},
   "outputs": [],
   "source": [
    "a = [10, 20, 30, 40]\n",
    "a = [‘one’, ‘two’, ‘three’, ‘four’]\n",
    "a = [10, 20, ‘one’, ‘two’]\n",
    "a = [10, 20, [‘one’, ‘two’] ]\n",
    "\n",
    "a = [ ]\n",
    "a = list( )\n"
   ]
  },
  {
   "cell_type": "code",
   "execution_count": null,
   "id": "3981a7c8",
   "metadata": {},
   "outputs": [],
   "source": [
    "x=[10,20,30,40]\n",
    "print(x)\n",
    "print(x[0],x[3])\n",
    "print(x[1:3])\n",
    "\n",
    "f=[＂게임\",＂독서\"]\n",
    "print(f)\n",
    "f[0]=＂스포츠\"\n",
    "print(f)\n",
    "f[2]=＂음악\"\n",
    "\n",
    "x=[20]\n",
    "print(x)\n",
    "x.append(30)\n",
    "print(x)\n",
    "x.insert(0,10)\n",
    "print(x)\n",
    "x.extend([40,50])\n",
    "print(x)\n",
    "y=[1,2]\n",
    "z=x+y\n",
    "print(z)"
   ]
  },
  {
   "cell_type": "code",
   "execution_count": null,
   "id": "d0a8a8cc",
   "metadata": {},
   "outputs": [],
   "source": [
    "a=[10,20,30]\n",
    "print(\"최솟값:\", min(a))\n",
    "print(\"최댓값:\", max(a))\n",
    "print(\"합 계:\", sum(a))"
   ]
  },
  {
   "cell_type": "code",
   "execution_count": null,
   "id": "639514ed",
   "metadata": {},
   "outputs": [],
   "source": [
    "fruits_2=['apple','banana','cherry']\n",
    "fruits_2[1]='grape'\n",
    "fruits_2"
   ]
  },
  {
   "cell_type": "code",
   "execution_count": null,
   "id": "de47525d",
   "metadata": {},
   "outputs": [],
   "source": [
    "fruits_2=['apple','banana','cherry']\n",
    "fruits_2[1]='grape'\n",
    "fruits_2"
   ]
  },
  {
   "cell_type": "code",
   "execution_count": null,
   "id": "65e1fd6b",
   "metadata": {},
   "outputs": [],
   "source": [
    "fruits_3=['apple','banana','cherry']\n",
    "fruits_3.append('strawberry')\n",
    "fruits_3"
   ]
  },
  {
   "cell_type": "code",
   "execution_count": null,
   "id": "0ea8f0be",
   "metadata": {},
   "outputs": [],
   "source": [
    "def square(x):\n",
    "  return x**2"
   ]
  },
  {
   "cell_type": "code",
   "execution_count": null,
   "id": "7a5c3853",
   "metadata": {},
   "outputs": [],
   "source": [
    "new = square([1,2,3,4,5])\n",
    "print(new)"
   ]
  },
  {
   "cell_type": "code",
   "execution_count": null,
   "id": "f625a405",
   "metadata": {},
   "outputs": [],
   "source": [
    "#같은 코드\n",
    "\n",
    "def square(x):\n",
    "  result=x**2\n",
    "  return result"
   ]
  },
  {
   "cell_type": "code",
   "execution_count": null,
   "id": "b71a4a11",
   "metadata": {},
   "outputs": [],
   "source": [
    "def squares(numbers):\n",
    "    newlist=[]\n",
    "    for num in numers:\n",
    "        newlist.append(num==2)\n",
    "    return newlist"
   ]
  },
  {
   "cell_type": "markdown",
   "id": "30a71bda",
   "metadata": {},
   "source": [
    "# BMI 계산 함수 만들기-남/여 버전"
   ]
  },
  {
   "cell_type": "code",
   "execution_count": null,
   "id": "20bd5647",
   "metadata": {},
   "outputs": [],
   "source": [
    "def calculate_bmi(height, weight, gender):\n",
    "    # 키를 미터로 변환\n",
    "    height_m = height / 100\n",
    "    \n",
    "    # BMI 계산\n",
    "    bmi = weight / (height_m ** 2)\n",
    "    \n",
    "    # BMI에 따른 건강 상태 분류\n",
    "    if gender == 'male':  # 남성인 경우\n",
    "        if bmi < 18.5:\n",
    "            status = \"저체중\"\n",
    "        elif bmi < 25:\n",
    "            status = \"정상\"\n",
    "        elif bmi < 30:\n",
    "            status = \"과체중(약간 높음)\"\n",
    "        else:\n",
    "            status = \"비만(높음)\"\n",
    "    elif gender == 'female':  # 여성인 경우\n",
    "        if bmi < 18.5:\n",
    "            status = \"저체중\"\n",
    "        elif bmi < 24:\n",
    "            status = \"정상\"\n",
    "        elif bmi < 29:\n",
    "            status = \"과체중(약간 높음)\"\n",
    "        else:\n",
    "            status = \"비만(높음)\"\n",
    "    else:\n",
    "        status = \"성별을 다시 입력하세요.\"\n",
    "    \n",
    "    return bmi, status\n",
    "\n",
    "# 사용자로부터 키, 몸무게, 성별을 입력받기\n",
    "height = float(input(\"키를 센티미터 단위로 입력하세요: \"))\n",
    "weight = float(input(\"몸무게를 킬로그램 단위로 입력하세요: \"))\n",
    "gender = input(\"성별을 입력하세요 (male 또는 female): \")\n",
    "\n",
    "# BMI 계산 함수 호출\n",
    "bmi_result, health_status = calculate_bmi(height, weight, gender)\n",
    "\n",
    "# 결과 출력\n",
    "print(\"BMI:\", bmi_result)\n",
    "print(\"건강 상태:\", health_status)\n"
   ]
  }
 ],
 "metadata": {
  "kernelspec": {
   "display_name": "Python 3 (ipykernel)",
   "language": "python",
   "name": "python3"
  },
  "language_info": {
   "codemirror_mode": {
    "name": "ipython",
    "version": 3
   },
   "file_extension": ".py",
   "mimetype": "text/x-python",
   "name": "python",
   "nbconvert_exporter": "python",
   "pygments_lexer": "ipython3",
   "version": "3.10.9"
  },
  "toc": {
   "base_numbering": 1,
   "nav_menu": {},
   "number_sections": true,
   "sideBar": true,
   "skip_h1_title": false,
   "title_cell": "Table of Contents",
   "title_sidebar": "Contents",
   "toc_cell": false,
   "toc_position": {},
   "toc_section_display": true,
   "toc_window_display": false
  }
 },
 "nbformat": 4,
 "nbformat_minor": 5
}
