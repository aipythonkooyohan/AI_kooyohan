{
 "cells": [
  {
   "cell_type": "markdown",
   "id": "fb32167b",
   "metadata": {},
   "source": [
    "# 원둘레, 면적 코드"
   ]
  },
  {
   "cell_type": "code",
   "execution_count": null,
   "id": "52b4c492",
   "metadata": {},
   "outputs": [],
   "source": [
    "import math\n",
    "\n",
    "def calculate_circle(radius):\n",
    "    circumference = 2 * math.pi * radius\n",
    "    area = math.pi * (radius ** 2)\n",
    "    return circumference, area\n",
    "\n",
    "radius = float(input(\"반지름을 입력하세요: \"))\n",
    "circle_circumference, circle_area = calculate_circle(radius)\n",
    "\n",
    "print(\"원의 둘레:\", circle_circumference)\n",
    "print(\"원의 면적:\", circle_area)"
   ]
  },
  {
   "cell_type": "markdown",
   "id": "7a73be88",
   "metadata": {},
   "source": [
    "# 시간 -> 분 변환코드"
   ]
  },
  {
   "cell_type": "code",
   "execution_count": null,
   "id": "8d9b7896",
   "metadata": {},
   "outputs": [],
   "source": [
    "def minutes_to_hours_and_minutes(minutes):\n",
    "    hours = minutes // 60\n",
    "    remaining_minutes = minutes % 60\n",
    "    return hours, remaining_minutes\n",
    "\n",
    "input_minutes = int(input(\"분을 입력하세요: \"))\n",
    "hours, remaining_minutes = minutes_to_hours_and_minutes(input_minutes)\n",
    "\n",
    "print(\"시간:\", hours, \"시간\")\n",
    "print(\"분:\", remaining_minutes, \"분\")"
   ]
  },
  {
   "cell_type": "code",
   "execution_count": null,
   "id": "7cfc8575",
   "metadata": {},
   "outputs": [],
   "source": [
    "def minutes_to_hours_and_minutes(minutes):\n",
    "    hours = minutes // 60\n",
    "    remaining_minutes = minutes % 60\n",
    "    return hours, remaining_minutes\n",
    "\n",
    "input_minutes = int(input(\"분을 입력하세요: \"))\n",
    "hours, remaining_minutes = minutes_to_hours_and_minutes(input_minutes)\n",
    "\n",
    "print(\"시간: {}시간\".format(hours))\n",
    "print(\"분: {}분\".format(remaining_minutes))"
   ]
  },
  {
   "cell_type": "markdown",
   "id": "07ca7fa2",
   "metadata": {},
   "source": [
    "#  화씨, 섭씨 온도 변환코드"
   ]
  },
  {
   "cell_type": "code",
   "execution_count": null,
   "id": "a463dae5",
   "metadata": {},
   "outputs": [],
   "source": [
    "def calculate_circle(radius):\n",
    "    circumference = 2 * 3.14 * radius\n",
    "    area = 3.14 * (radius ** 2)\n",
    "    return circumference, area\n",
    "\n",
    "radius = float(input(\"반지름을 입력하세요: \"))\n",
    "circle_circumference, circle_area = calculate_circle(radius)\n",
    "\n",
    "print(\"원의 둘레:\", circle_circumference)\n",
    "print(\"원의 면적:\", circle_area)"
   ]
  },
  {
   "cell_type": "code",
   "execution_count": null,
   "id": "1fe8dce5",
   "metadata": {},
   "outputs": [],
   "source": [
    "#직접 작성한 코드\n",
    "\n",
    "\n",
    "def celsius_to_fahrenheit(celsius):\n",
    "    fahrenheit = (celsius * 9/5) + 32\n",
    "    return fahrenheit\n",
    "\n",
    "celsius = float(input(\"섭씨 온도를 입력하세요: \"))\n",
    "fahrenheit = celsius_to_fahrenheit(celsius)\n",
    "print(\"화씨 온도:\", fahrenheit)"
   ]
  },
  {
   "cell_type": "code",
   "execution_count": null,
   "id": "18af3320",
   "metadata": {},
   "outputs": [],
   "source": [
    "def celsius_to_fahrenheit(celsius):\n",
    "    fahrenheit = celsius * 9/5 + 32\n",
    "    return fahrenheit\n",
    "\n",
    "celsius = float(input(\"섭씨 온도를 입력하세요: \"))\n",
    "fahrenheit = celsius_to_fahrenheit(celsius)\n",
    "print(\"화씨 온도: %.2f\" % fahrenheit)"
   ]
  }
 ],
 "metadata": {
  "kernelspec": {
   "display_name": "Python 3 (ipykernel)",
   "language": "python",
   "name": "python3"
  },
  "language_info": {
   "codemirror_mode": {
    "name": "ipython",
    "version": 3
   },
   "file_extension": ".py",
   "mimetype": "text/x-python",
   "name": "python",
   "nbconvert_exporter": "python",
   "pygments_lexer": "ipython3",
   "version": "3.10.9"
  },
  "toc": {
   "base_numbering": 1,
   "nav_menu": {},
   "number_sections": true,
   "sideBar": true,
   "skip_h1_title": false,
   "title_cell": "Table of Contents",
   "title_sidebar": "Contents",
   "toc_cell": false,
   "toc_position": {},
   "toc_section_display": true,
   "toc_window_display": false
  }
 },
 "nbformat": 4,
 "nbformat_minor": 5
}
